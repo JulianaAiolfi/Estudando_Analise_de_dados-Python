{
  "nbformat": 4,
  "nbformat_minor": 0,
  "metadata": {
    "colab": {
      "name": "Aula02_24_03_2022 - Impacta.ipynb",
      "provenance": [],
      "collapsed_sections": [],
      "authorship_tag": "ABX9TyOVnmRIeyEXbX9TmsCg92Ya",
      "include_colab_link": true
    },
    "kernelspec": {
      "name": "python3",
      "display_name": "Python 3"
    },
    "language_info": {
      "name": "python"
    }
  },
  "cells": [
    {
      "cell_type": "markdown",
      "metadata": {
        "id": "view-in-github",
        "colab_type": "text"
      },
      "source": [
        "<a href=\"https://colab.research.google.com/github/JulianaAiolfi/Estudando_Analise_de_dados-Python/blob/main/Notebook_Aulas/Aula02_24_03_2022_Impacta.ipynb\" target=\"_parent\"><img src=\"https://colab.research.google.com/assets/colab-badge.svg\" alt=\"Open In Colab\"/></a>"
      ]
    },
    {
      "cell_type": "code",
      "execution_count": null,
      "metadata": {
        "colab": {
          "base_uri": "https://localhost:8080/"
        },
        "id": "jV5ENpVPqe03",
        "outputId": "3031af05-24ee-433a-fb65-f4d198be0bc6"
      },
      "outputs": [
        {
          "output_type": "stream",
          "name": "stdout",
          "text": [
            "Escreva seu nome: Juliana\n",
            "Olá Juliana, Seja bem vindo(a) ao mundo python!!!!\n"
          ]
        }
      ],
      "source": [
        "#input de dados\n",
        "\n",
        "nome = input('Escreva seu nome: ')\n",
        "print('Olá ' + nome + ', Seja bem vindo(a) ao mundo python!!!!')"
      ]
    },
    {
      "cell_type": "code",
      "source": [
        "idade = int(input('Qual é a sua idade: '))\n",
        "print(type(idade))"
      ],
      "metadata": {
        "colab": {
          "base_uri": "https://localhost:8080/"
        },
        "id": "Sj_0b9gvqqCG",
        "outputId": "d93b101a-deec-472a-f905-7b58672dc395"
      },
      "execution_count": null,
      "outputs": [
        {
          "output_type": "stream",
          "name": "stdout",
          "text": [
            "Qual é a sua idade: 33\n",
            "<class 'int'>\n"
          ]
        }
      ]
    },
    {
      "cell_type": "code",
      "source": [
        "#converter , para . quando digitado ,\n",
        "\n",
        "teste = input(\"Qual é a sua altura\")\n",
        "print(teste[0:-2]+'.'+ teste[-2:])\n",
        "teste = float(teste.replace(\",\",\".\"))\n",
        "print(teste)"
      ],
      "metadata": {
        "colab": {
          "base_uri": "https://localhost:8080/"
        },
        "id": "p3LSPxKD2Wrp",
        "outputId": "3b95f8d2-0264-4234-eaeb-a40dee658a45"
      },
      "execution_count": null,
      "outputs": [
        {
          "output_type": "stream",
          "name": "stdout",
          "text": [
            "Qual é a sua altura163\n",
            "1.63\n",
            "163.0\n"
          ]
        }
      ]
    },
    {
      "cell_type": "code",
      "source": [
        "#codigo professor\n",
        "nome = input('Olá qual é o seu mome: ')\n",
        "altura = float(input(nome + ', qual a sua altura: '))\n",
        "peso = float(input(nome + ', Quantos quilos você tem: '))\n",
        "imc = (peso / (altura * altura))\n",
        "\n",
        "#print(\"Olá \" + nome + \" ,seu IMC é \" + imc + '!')\n",
        "print(f'Olá {nome} ,seu IMC é {imc}!')"
      ],
      "metadata": {
        "colab": {
          "base_uri": "https://localhost:8080/"
        },
        "id": "21mKjKSm4zhO",
        "outputId": "96c0e414-3002-4bce-b987-71d6b1bf29f7"
      },
      "execution_count": null,
      "outputs": [
        {
          "output_type": "stream",
          "name": "stdout",
          "text": [
            "Olá qual é o seu mome: Ju\n",
            "Ju, qual a sua altura: 163\n",
            "Ju, Quantos quilos você tem: 50\n",
            "Olá Ju ,seu IMC é 0.0018818924310286425!\n"
          ]
        }
      ]
    },
    {
      "cell_type": "code",
      "source": [
        "frutas = ['banana','abacate',\"abacaxi\",'banana','abacate','abacaxi']"
      ],
      "metadata": {
        "id": "b-Z6TM_HQTJN"
      },
      "execution_count": null,
      "outputs": []
    },
    {
      "cell_type": "code",
      "source": [
        "for fruta in frutas:\n",
        "  if(fruta.startswith('a')):\n",
        "    print(fruta)\n",
        "  print(fruta)"
      ],
      "metadata": {
        "colab": {
          "base_uri": "https://localhost:8080/"
        },
        "id": "qfJusIhoQfM4",
        "outputId": "7c36f048-5f5a-4792-e8f0-b9b6c005d277"
      },
      "execution_count": null,
      "outputs": [
        {
          "output_type": "stream",
          "name": "stdout",
          "text": [
            "banana\n",
            "abacate\n",
            "abacate\n",
            "abacaxi\n",
            "abacaxi\n",
            "banana\n",
            "abacate\n",
            "abacate\n",
            "abacaxi\n",
            "abacaxi\n"
          ]
        }
      ]
    },
    {
      "cell_type": "code",
      "source": [
        "patinhos = 4\n",
        "\n",
        "while patinhos >= 0:\n",
        "\n",
        "  if( patinhos == 0):\n",
        "    print(\"A mamãe gritou, quaquaquaqua!!!!, mas nenhum patinho voltou de lá\")\n",
        "  else:\n",
        "    print(f'{patinhos} Patinhos foram passear, além das montanhas para brincar')\n",
        "  patinhos -= 1 # patinhos = patinhos - 1 "
      ],
      "metadata": {
        "colab": {
          "base_uri": "https://localhost:8080/"
        },
        "id": "rjbu-PU2UCW8",
        "outputId": "d94d13fc-d718-440b-9920-32ae310efd14"
      },
      "execution_count": null,
      "outputs": [
        {
          "output_type": "stream",
          "name": "stdout",
          "text": [
            "4 Patinhos foram passear, além das montanhas para brincar\n",
            "3 Patinhos foram passear, além das montanhas para brincar\n",
            "2 Patinhos foram passear, além das montanhas para brincar\n",
            "1 Patinhos foram passear, além das montanhas para brincar\n",
            "A mamãe gritou, quaquaquaqua!!!!, mas nenhum patinho voltou de lá\n"
          ]
        }
      ]
    },
    {
      "cell_type": "code",
      "source": [
        "velocidade = [1,2,3,4,5]\n",
        "\n",
        "creu = 0\n",
        "\n",
        "for velocidadecreu in velocidade:\n",
        "  print(f'velocidade {velocidadecreu} do creuuu!!!' )\n",
        "  while creu <= velocidadecreu:\n",
        "    print(\"CREUUU\" * creu)\n",
        "    creu += 1"
      ],
      "metadata": {
        "colab": {
          "base_uri": "https://localhost:8080/"
        },
        "id": "EIES2C4CUgo4",
        "outputId": "490a555c-b6aa-4de4-ccf8-71662eebdd31"
      },
      "execution_count": null,
      "outputs": [
        {
          "output_type": "stream",
          "name": "stdout",
          "text": [
            "velocidade 1 do creuuu!!!\n",
            "\n",
            "CREUUU\n",
            "velocidade 2 do creuuu!!!\n",
            "CREUUUCREUUU\n",
            "velocidade 3 do creuuu!!!\n",
            "CREUUUCREUUUCREUUU\n",
            "velocidade 4 do creuuu!!!\n",
            "CREUUUCREUUUCREUUUCREUUU\n",
            "velocidade 5 do creuuu!!!\n",
            "CREUUUCREUUUCREUUUCREUUUCREUUU\n"
          ]
        }
      ]
    }
  ]
}