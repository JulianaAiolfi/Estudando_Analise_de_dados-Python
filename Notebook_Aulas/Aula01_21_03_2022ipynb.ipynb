{
  "nbformat": 4,
  "nbformat_minor": 0,
  "metadata": {
    "colab": {
      "name": "Aula01 - 21.03.2022ipynb",
      "provenance": [],
      "collapsed_sections": [],
      "authorship_tag": "ABX9TyMm+U2X2d96kfubnVGUnT59",
      "include_colab_link": true
    },
    "kernelspec": {
      "name": "python3",
      "display_name": "Python 3"
    },
    "language_info": {
      "name": "python"
    }
  },
  "cells": [
    {
      "cell_type": "markdown",
      "metadata": {
        "id": "view-in-github",
        "colab_type": "text"
      },
      "source": [
        "<a href=\"https://colab.research.google.com/github/JulianaAiolfi/Estudando_Analise_de_dados-Python/blob/main/Notebook_Aulas/Aula01_21_03_2022ipynb.ipynb\" target=\"_parent\"><img src=\"https://colab.research.google.com/assets/colab-badge.svg\" alt=\"Open In Colab\"/></a>"
      ]
    },
    {
      "cell_type": "code",
      "execution_count": null,
      "metadata": {
        "colab": {
          "base_uri": "https://localhost:8080/"
        },
        "id": "J8AjEKyjsA4P",
        "outputId": "78f21027-e036-44a1-ac22-d55136caed62"
      },
      "outputs": [
        {
          "output_type": "stream",
          "name": "stdout",
          "text": [
            "Olá mundo!\n"
          ]
        }
      ],
      "source": [
        "print(\"Olá mundo!\")"
      ]
    },
    {
      "cell_type": "code",
      "source": [
        "a = 347\n",
        "b = 2.71\n",
        "c = '347'\n",
        "d = 2+3j"
      ],
      "metadata": {
        "id": "4cRg9_r42ISa"
      },
      "execution_count": null,
      "outputs": []
    },
    {
      "cell_type": "code",
      "source": [
        "a, b, c, d = 347, 2.71, '347', 2+3j\n"
      ],
      "metadata": {
        "id": "6P6GSLQD2S11"
      },
      "execution_count": null,
      "outputs": []
    },
    {
      "cell_type": "code",
      "source": [
        "teste = True"
      ],
      "metadata": {
        "id": "kLQO5yXf2fkX"
      },
      "execution_count": null,
      "outputs": []
    },
    {
      "cell_type": "code",
      "source": [
        "float(a)\n",
        "int(b)\n",
        "float(c)\n",
        "str(d)\n"
      ],
      "metadata": {
        "colab": {
          "base_uri": "https://localhost:8080/",
          "height": 35
        },
        "id": "xBpsEb4M2fmn",
        "outputId": "7eab08e9-cf82-42ee-e1c9-fc6f716163db"
      },
      "execution_count": null,
      "outputs": [
        {
          "output_type": "execute_result",
          "data": {
            "text/plain": [
              "'(2+3j)'"
            ],
            "application/vnd.google.colaboratory.intrinsic+json": {
              "type": "string"
            }
          },
          "metadata": {},
          "execution_count": 22
        }
      ]
    },
    {
      "cell_type": "code",
      "source": [
        "complexa = 347 + 2.71"
      ],
      "metadata": {
        "id": "NkVj-Jvj2nW1"
      },
      "execution_count": null,
      "outputs": []
    },
    {
      "cell_type": "code",
      "source": [
        "a = 2 + 2\n",
        "print(a)"
      ],
      "metadata": {
        "colab": {
          "base_uri": "https://localhost:8080/"
        },
        "id": "vAptmRr-4Qvq",
        "outputId": "ef5e02e2-d4f8-4ef5-fac1-772f3e4167d0"
      },
      "execution_count": null,
      "outputs": [
        {
          "output_type": "stream",
          "name": "stdout",
          "text": [
            "4\n"
          ]
        }
      ]
    },
    {
      "cell_type": "code",
      "source": [
        "a = 10 % 2\n",
        "print(a)"
      ],
      "metadata": {
        "colab": {
          "base_uri": "https://localhost:8080/"
        },
        "id": "D1tyvjjL4nyj",
        "outputId": "ec702e41-53d8-48fc-9794-8c67742bd51d"
      },
      "execution_count": null,
      "outputs": [
        {
          "output_type": "stream",
          "name": "stdout",
          "text": [
            "0\n"
          ]
        }
      ]
    },
    {
      "cell_type": "code",
      "source": [
        "x = 3\n",
        "y = 4.0\n",
        "z = 12\n",
        "t = 'banana'"
      ],
      "metadata": {
        "id": "EjJObMdE6No0"
      },
      "execution_count": null,
      "outputs": []
    },
    {
      "cell_type": "code",
      "source": [
        "print(x+y)\n",
        "print(z-y)\n",
        "print(y**x)\n",
        "print(x*z)\n",
        "print(z/x)\n",
        "print(y/x)\n",
        "print(y%x)"
      ],
      "metadata": {
        "colab": {
          "base_uri": "https://localhost:8080/"
        },
        "id": "ewk0WQFU6cZS",
        "outputId": "e427ca94-d68b-405d-fa71-89521211e286"
      },
      "execution_count": null,
      "outputs": [
        {
          "output_type": "stream",
          "name": "stdout",
          "text": [
            "7.0\n",
            "8.0\n",
            "64.0\n",
            "36\n",
            "4.0\n",
            "1.3333333333333333\n",
            "1.0\n"
          ]
        }
      ]
    },
    {
      "cell_type": "code",
      "source": [
        "print(x>y)\n",
        "print(x*y==z)\n",
        "print(t==y)\n",
        "print(x>y and x<z)"
      ],
      "metadata": {
        "colab": {
          "base_uri": "https://localhost:8080/"
        },
        "id": "TRczda406h6t",
        "outputId": "924b7bb1-b67e-4239-b6d5-82d7a9482d29"
      },
      "execution_count": null,
      "outputs": [
        {
          "output_type": "stream",
          "name": "stdout",
          "text": [
            "False\n",
            "True\n",
            "False\n",
            "False\n"
          ]
        }
      ]
    },
    {
      "cell_type": "code",
      "source": [
        "fruta1 = 'banana'\n",
        "fruta2 = 'ABACATE'"
      ],
      "metadata": {
        "id": "w6vafWG86h-F"
      },
      "execution_count": null,
      "outputs": []
    },
    {
      "cell_type": "code",
      "source": [
        "fruta2.lower()"
      ],
      "metadata": {
        "colab": {
          "base_uri": "https://localhost:8080/",
          "height": 35
        },
        "id": "n7zKA28aBhbQ",
        "outputId": "af313e14-7cb4-4caa-9ed9-74a4ae0e87a1"
      },
      "execution_count": null,
      "outputs": [
        {
          "output_type": "execute_result",
          "data": {
            "text/plain": [
              "'abacate'"
            ],
            "application/vnd.google.colaboratory.intrinsic+json": {
              "type": "string"
            }
          },
          "metadata": {},
          "execution_count": 37
        }
      ]
    }
  ]
}