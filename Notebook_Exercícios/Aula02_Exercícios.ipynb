{
  "nbformat": 4,
  "nbformat_minor": 0,
  "metadata": {
    "colab": {
      "name": "Aula02_Exercícios.ipynb",
      "provenance": [],
      "collapsed_sections": [],
      "authorship_tag": "ABX9TyM0PtYKOQw2qVZBxiMhk9N2",
      "include_colab_link": true
    },
    "kernelspec": {
      "name": "python3",
      "display_name": "Python 3"
    },
    "language_info": {
      "name": "python"
    }
  },
  "cells": [
    {
      "cell_type": "markdown",
      "metadata": {
        "id": "view-in-github",
        "colab_type": "text"
      },
      "source": [
        "<a href=\"https://colab.research.google.com/github/JulianaAiolfi/Estudando_Analise_de_dados-Python/blob/main/Notebook_Exerc%C3%ADcios/Aula02_Exerc%C3%ADcios.ipynb\" target=\"_parent\"><img src=\"https://colab.research.google.com/assets/colab-badge.svg\" alt=\"Open In Colab\"/></a>"
      ]
    },
    {
      "cell_type": "markdown",
      "source": [
        "#Atividades"
      ],
      "metadata": {
        "id": "-UBMPdbpPGJ5"
      }
    },
    {
      "cell_type": "code",
      "source": [
        "nome = input('Qual é o seu nome?: ')\n",
        "altura = float(input('Qual é a sua altura?: '))\n",
        "peso = float(input('Qual é o seu peso?: '))\n",
        "imc = str(peso/(altura*altura))\n",
        "#print(\"Olá \" +nome+ \" ,seu IMC é: \" +imc+ '!')\n",
        "print(f'Olá {nome} ,seu IMC é: {imc}!')"
      ],
      "metadata": {
        "colab": {
          "base_uri": "https://localhost:8080/"
        },
        "id": "Nm4MnRBjqqMm",
        "outputId": "995dab72-567a-496e-e870-34da91d825f8"
      },
      "execution_count": 4,
      "outputs": [
        {
          "output_type": "stream",
          "name": "stdout",
          "text": [
            "Qual é o seu nome?: Juliana\n",
            "Qual é a sua altura?: 1.63\n",
            "Qual é o seu peso?: 73\n",
            "Olá Juliana ,seu IMC é: 27.475629493018182!\n"
          ]
        }
      ]
    },
    {
      "cell_type": "markdown",
      "source": [
        "1. Atualize o programa imc.py feito anteriormente para que o resultado exibido\n",
        "seja\n",
        "\n",
        "“Olá <Fulano>, seu IMC é <xx>, logo você está <situação>.”"
      ],
      "metadata": {
        "id": "eiI_97vCOITQ"
      }
    },
    {
      "cell_type": "code",
      "source": [
        "nome = input('Olá qual é o seu mome: ')\n",
        "altura = float(input(nome + ', qual a sua altura: '))\n",
        "peso = float(input(nome + ', Quantos quilos você tem: '))\n",
        "imc = (peso / (altura * altura))\n",
        "\n",
        "\n",
        "if(imc < 17):\n",
        "  situacao = \"Muito abaixo do peso\"\n",
        "elif(imc < 18.49):\n",
        "  situacao = \"abaixo do peso\"\n",
        "elif(imc < 24.99):\n",
        "  situacao = \"peso normal do peso\"\n",
        "elif(imc < 29.99):\n",
        "  situacao = \"acima do peso\"\n",
        "elif(imc < 34.99):\n",
        "  situacao = \"Obesidade I\"\n",
        "elif(imc < 39.99):\n",
        "  situacao = \"Obesidade II(severa)\"\n",
        "else:\n",
        "  situacao = \"Obesidade III(mórbida)\"\n",
        "\n",
        "print(\"Olá \" + nome + \" ,seu IMC é \" + str(imc) + ', logo você esta na situacao: ' + situacao )"
      ],
      "metadata": {
        "colab": {
          "base_uri": "https://localhost:8080/"
        },
        "id": "f9N5lwbYC98A",
        "outputId": "ab255b88-9d82-4ec9-ac47-37e1afe8d4c5"
      },
      "execution_count": 5,
      "outputs": [
        {
          "output_type": "stream",
          "name": "stdout",
          "text": [
            "Olá qual é o seu mome: Juliana\n",
            "Juliana, qual a sua altura: 1.63\n",
            "Juliana, Quantos quilos você tem: 73\n",
            "Olá Juliana ,seu IMC é 27.475629493018182, logo você esta na situacao: acima do peso\n"
          ]
        }
      ]
    },
    {
      "cell_type": "code",
      "source": [
        "frutas = ['banana','abacate',\"abacaxi\",'banana','abacate','abacaxi']"
      ],
      "metadata": {
        "id": "b-Z6TM_HQTJN"
      },
      "execution_count": null,
      "outputs": []
    },
    {
      "cell_type": "code",
      "source": [
        "for fruta in frutas:\n",
        "  if(fruta.startswith('a')):\n",
        "    print(fruta)\n",
        "  print(fruta)"
      ],
      "metadata": {
        "colab": {
          "base_uri": "https://localhost:8080/"
        },
        "id": "qfJusIhoQfM4",
        "outputId": "7c36f048-5f5a-4792-e8f0-b9b6c005d277"
      },
      "execution_count": null,
      "outputs": [
        {
          "output_type": "stream",
          "name": "stdout",
          "text": [
            "banana\n",
            "abacate\n",
            "abacate\n",
            "abacaxi\n",
            "abacaxi\n",
            "banana\n",
            "abacate\n",
            "abacate\n",
            "abacaxi\n",
            "abacaxi\n"
          ]
        }
      ]
    },
    {
      "cell_type": "markdown",
      "source": [
        "2. Abra um bloco de notas e crie um programa chamado tabuada.py que\n",
        "faça:\n",
        "\n",
        "\n",
        "*   a. Declare uma lista multiplos = [1,2,3,4,5,6,7,8,9,10]\n",
        "*   b. Peça ao usuário um número inteiro de 1 a 10 e atribua na variável\n",
        "number\n",
        "*   c. Faça um laço for que imprima os valores da tabuada de number\n"
      ],
      "metadata": {
        "id": "NCxFcKGSOQaf"
      }
    },
    {
      "cell_type": "code",
      "source": [
        "lista_num = [1, 2, 3, 4, 5, 6, 7, 8, 9, 10]\n",
        "\n",
        "soma = 0\n",
        "#repetição acumulativa\n",
        "for numero in lista_num:\n",
        "  soma = soma + numero\n",
        "  print(soma)"
      ],
      "metadata": {
        "colab": {
          "base_uri": "https://localhost:8080/"
        },
        "id": "fmtZYg6aQwRG",
        "outputId": "e835945e-fcd6-478d-a662-4bc347efbc7b"
      },
      "execution_count": null,
      "outputs": [
        {
          "output_type": "stream",
          "name": "stdout",
          "text": [
            "1\n",
            "3\n",
            "6\n",
            "10\n",
            "15\n",
            "21\n",
            "28\n",
            "36\n",
            "45\n",
            "55\n"
          ]
        }
      ]
    },
    {
      "cell_type": "code",
      "source": [
        "condicao = 1\n",
        "soma = 0\n",
        "\n",
        "while condicao <= 10:\n",
        "  soma = soma + condicao\n",
        "  condicao = condicao + 1\n",
        "  print(soma)"
      ],
      "metadata": {
        "colab": {
          "base_uri": "https://localhost:8080/"
        },
        "id": "lmxl7TinQy6y",
        "outputId": "84855160-5bac-4ad0-e26a-05260192fb7e"
      },
      "execution_count": null,
      "outputs": [
        {
          "output_type": "stream",
          "name": "stdout",
          "text": [
            "1\n",
            "3\n",
            "6\n",
            "10\n",
            "15\n",
            "21\n",
            "28\n",
            "36\n",
            "45\n",
            "55\n"
          ]
        }
      ]
    },
    {
      "cell_type": "code",
      "source": [
        "nome = input('Digite o seu nome: ')\n",
        "soma = 0\n",
        "incremento = 0\n",
        "\n",
        "while incremento != 99999:\n",
        "  valorproduto = float(input(f'Digite o valor do produto: '))\n",
        "\n",
        "  if(valorproduto == 99999):\n",
        "    incremento = valorproduto\n",
        "  else:\n",
        "    soma = soma + valorproduto\n",
        "  \n",
        "print(f'O valor total da siua compra foi de {soma}')\n",
        "valorpago = float(input('Qual foi o valor pago: '))\n",
        "\n",
        "troco = valorpago - soma\n",
        "\n",
        "print(f'Seu troco é de :{troco}')"
      ],
      "metadata": {
        "colab": {
          "base_uri": "https://localhost:8080/"
        },
        "id": "H6cYTQpCUgyU",
        "outputId": "9ffdcb34-9943-4702-dd32-ec6a104f0002"
      },
      "execution_count": null,
      "outputs": [
        {
          "output_type": "stream",
          "name": "stdout",
          "text": [
            "Digite o seu nome: Ju\n",
            "Digite o valor do produto: 78\n",
            "Digite o valor do produto: 58\n",
            "Digite o valor do produto: 96\n",
            "Digite o valor do produto: 45\n",
            "Digite o valor do produto: 99999\n",
            "O valor total da siua compra foi de 277.0\n",
            "Qual foi o valor pago: 300\n",
            "Seu troco é de :23.0\n"
          ]
        }
      ]
    },
    {
      "cell_type": "code",
      "source": [
        "nome = input(\"Olá, Digite o seu nome: \")\n",
        "soma = 0\n",
        "incremento = 0\n",
        "\n",
        "while incremento != \"Sair\":\n",
        "  valorproduto = input(f'Digite o valor do produto: ')\n",
        "\n",
        "  if(valorproduto == \"Sair\"):\n",
        "    incremento = valorproduto\n",
        "  else:\n",
        "    soma = soma + float(valorproduto)\n",
        "  \n",
        "print(f'O valor total da sua compra foi de {soma}')\n",
        "valorpago = float(input(\"Qual foi o valor pago: \"))\n",
        "\n",
        "troco =  valorpago - soma\n",
        "\n",
        "print(f'Seu troco é de: {troco}')"
      ],
      "metadata": {
        "colab": {
          "base_uri": "https://localhost:8080/"
        },
        "id": "t5f2AiHjhVS4",
        "outputId": "7197e63c-05cf-4ef8-f210-0f0a0958a951"
      },
      "execution_count": null,
      "outputs": [
        {
          "output_type": "stream",
          "name": "stdout",
          "text": [
            "Olá, Digite o seu nome: Ju\n",
            "Digite o valor do produto: 899\n",
            "Digite o valor do produto: 455\n",
            "Digite o valor do produto: 100\n",
            "Digite o valor do produto: Sair\n",
            "O valor total da sua compra foi de 1454.0\n",
            "Qual foi o valor pago: 2000\n",
            "Seu troco é de: 546.0\n"
          ]
        }
      ]
    }
  ]
}