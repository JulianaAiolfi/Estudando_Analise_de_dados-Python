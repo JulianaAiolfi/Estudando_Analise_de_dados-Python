{
  "nbformat": 4,
  "nbformat_minor": 0,
  "metadata": {
    "colab": {
      "name": "Aula01 - Exercícios.ipynb",
      "provenance": [],
      "collapsed_sections": [],
      "authorship_tag": "ABX9TyP5e0uHUZDWKhG02K13bF15",
      "include_colab_link": true
    },
    "kernelspec": {
      "name": "python3",
      "display_name": "Python 3"
    },
    "language_info": {
      "name": "python"
    }
  },
  "cells": [
    {
      "cell_type": "markdown",
      "metadata": {
        "id": "view-in-github",
        "colab_type": "text"
      },
      "source": [
        "<a href=\"https://colab.research.google.com/github/JulianaAiolfi/Estudando_Analise_de_dados-Python/blob/main/Notebook_Exerc%C3%ADcios/Aula01_Exerc%C3%ADcios.ipynb\" target=\"_parent\"><img src=\"https://colab.research.google.com/assets/colab-badge.svg\" alt=\"Open In Colab\"/></a>"
      ]
    },
    {
      "cell_type": "markdown",
      "source": [
        "#Atividades"
      ],
      "metadata": {
        "id": "O7nAbskLJSmh"
      }
    },
    {
      "cell_type": "markdown",
      "source": [
        "Crie uma variável com seu nome completo.\n",
        "1.   Crie uma variável com seu nome completo.\n",
        "2.   Escreva a variável em lowercase\n",
        "3.   Escreva em uppercase\n",
        "4.   Verifique se o nome começa com a letra P\n",
        "5.   Verifique se o nome termina com a letra J\n",
        "6.   Fatie a string para apenas o 1o nome\n",
        "\n"
      ],
      "metadata": {
        "id": "4Ib81HMeJVcV"
      }
    },
    {
      "cell_type": "code",
      "source": [
        "nome = 'Juliana Aiolfi'\n",
        "\n",
        "nome.lower()\n",
        "\n",
        "nome.upper()\n",
        "\n",
        "print( nome.startswith('p'))\n",
        "\n",
        "print( nome.endswith('j'))\n",
        "\n",
        "nome[:7]\n"
      ],
      "metadata": {
        "colab": {
          "base_uri": "https://localhost:8080/",
          "height": 70
        },
        "id": "NLI9WvmoGd7Y",
        "outputId": "a684de3e-4150-4073-e4b9-8ab8401f0a9e"
      },
      "execution_count": null,
      "outputs": [
        {
          "output_type": "stream",
          "name": "stdout",
          "text": [
            "False\n",
            "False\n"
          ]
        },
        {
          "output_type": "execute_result",
          "data": {
            "text/plain": [
              "'Juliana'"
            ],
            "application/vnd.google.colaboratory.intrinsic+json": {
              "type": "string"
            }
          },
          "metadata": {},
          "execution_count": 43
        }
      ]
    },
    {
      "cell_type": "markdown",
      "source": [
        "7. Fatie a string de 2 em 2."
      ],
      "metadata": {
        "id": "MY2AMcDgJkTg"
      }
    },
    {
      "cell_type": "code",
      "source": [
        "nome[::2]"
      ],
      "metadata": {
        "colab": {
          "base_uri": "https://localhost:8080/",
          "height": 35
        },
        "id": "TIuH9xZeHiia",
        "outputId": "4db55214-c476-4d6a-c83e-35d0e4598e9f"
      },
      "execution_count": null,
      "outputs": [
        {
          "output_type": "execute_result",
          "data": {
            "text/plain": [
              "'JlaaAof'"
            ],
            "application/vnd.google.colaboratory.intrinsic+json": {
              "type": "string"
            }
          },
          "metadata": {},
          "execution_count": 49
        }
      ]
    },
    {
      "cell_type": "markdown",
      "source": [
        "8. Considerando os espaços, qual o tamanho do seu nome?"
      ],
      "metadata": {
        "id": "mCtHhydxKOjS"
      }
    },
    {
      "cell_type": "code",
      "source": [
        "len(nome)"
      ],
      "metadata": {
        "colab": {
          "base_uri": "https://localhost:8080/"
        },
        "id": "PHRxIb-oHvkl",
        "outputId": "7aeace02-1b9e-41d7-f56b-328134d7f676"
      },
      "execution_count": null,
      "outputs": [
        {
          "output_type": "execute_result",
          "data": {
            "text/plain": [
              "14"
            ]
          },
          "metadata": {},
          "execution_count": 48
        }
      ]
    },
    {
      "cell_type": "markdown",
      "source": [
        "9. Crie uma lista com nomes de 4 times de futebol."
      ],
      "metadata": {
        "id": "QpuGLyJqKray"
      }
    },
    {
      "cell_type": "code",
      "source": [
        "time = ['Palmeiras', 'Santos', 'Corinthias', 'São Paulo']\n",
        "time"
      ],
      "metadata": {
        "colab": {
          "base_uri": "https://localhost:8080/"
        },
        "id": "MQ6o8U52QqLV",
        "outputId": "0c4d2966-e7e1-4905-a6c2-13ed115a9983"
      },
      "execution_count": null,
      "outputs": [
        {
          "output_type": "execute_result",
          "data": {
            "text/plain": [
              "['Palmeiras', 'Santos', 'Corinthias', 'São Paulo']"
            ]
          },
          "metadata": {},
          "execution_count": 58
        }
      ]
    },
    {
      "cell_type": "markdown",
      "source": [
        "10. Acesse o time que está na 3a posição."
      ],
      "metadata": {
        "id": "MVAh_pGrKvZQ"
      }
    },
    {
      "cell_type": "code",
      "source": [
        "time[2]"
      ],
      "metadata": {
        "colab": {
          "base_uri": "https://localhost:8080/",
          "height": 35
        },
        "id": "2Vyfs1ndQ51D",
        "outputId": "1da37d20-5936-4e2d-c619-dbafb6208f71"
      },
      "execution_count": null,
      "outputs": [
        {
          "output_type": "execute_result",
          "data": {
            "text/plain": [
              "'Corinthias'"
            ],
            "application/vnd.google.colaboratory.intrinsic+json": {
              "type": "string"
            }
          },
          "metadata": {},
          "execution_count": 59
        }
      ]
    },
    {
      "cell_type": "markdown",
      "source": [
        "11. Crie uma nova lista com duas listas de 3 times de futebol, cada uma de uma\n",
        "divisão diferente."
      ],
      "metadata": {
        "id": "tqNhRngdK0aQ"
      }
    },
    {
      "cell_type": "code",
      "source": [
        "timea = ['Palmeiras', 'Santos', 'Corinthias', 'São Paulo']\n",
        "\n",
        "timeb = ['Flamengo', 'Vasco', 'Botafogo', 'Fluminence']"
      ],
      "metadata": {
        "id": "XJ03NXzBQ6As"
      },
      "execution_count": null,
      "outputs": []
    },
    {
      "cell_type": "markdown",
      "source": [
        "12. Crie uma lista com 3 diferentes moedas. Acrescente mais 2 outras moedas à\n",
        "essa mesma lista."
      ],
      "metadata": {
        "id": "cPpjfhRdK3Im"
      }
    },
    {
      "cell_type": "code",
      "source": [
        "moedas = ['Real', 'Dolar', 'Euro']"
      ],
      "metadata": {
        "id": "zfoATkjfTcHS"
      },
      "execution_count": null,
      "outputs": []
    },
    {
      "cell_type": "code",
      "source": [
        "moedastexto = ' '.join(moedas)\n",
        "print(moedastexto)"
      ],
      "metadata": {
        "colab": {
          "base_uri": "https://localhost:8080/"
        },
        "id": "SZqStEqUTpN3",
        "outputId": "8f18826a-5759-4c63-c1a9-170c7c0432a9"
      },
      "execution_count": null,
      "outputs": [
        {
          "output_type": "stream",
          "name": "stdout",
          "text": [
            "Real Dolar Euro\n"
          ]
        }
      ]
    },
    {
      "cell_type": "code",
      "source": [
        "moedas2 = moedastexto.split(' ')\n",
        "print(moedas2)"
      ],
      "metadata": {
        "colab": {
          "base_uri": "https://localhost:8080/"
        },
        "id": "7qrLcDCgT9su",
        "outputId": "1f0b3d2e-6cc9-4655-b08e-e761e7339228"
      },
      "execution_count": null,
      "outputs": [
        {
          "output_type": "stream",
          "name": "stdout",
          "text": [
            "['Real', 'Dolar', 'Euro']\n"
          ]
        }
      ]
    },
    {
      "cell_type": "markdown",
      "source": [
        "13. Crie um dicionário chamado hemograma que contenha as seguintes\n",
        "chave:valor:"
      ],
      "metadata": {
        "id": "gcF05eUCLCGJ"
      }
    },
    {
      "cell_type": "code",
      "source": [
        "hemograma = { 'hemacias':4.71, 'hemoglobina': 14.1, 'hematocrito':41.2, 'linfocitos': 38, 'monocitos': 7, 'resultados': 'saudavel'}\n",
        "hemograma"
      ],
      "metadata": {
        "colab": {
          "base_uri": "https://localhost:8080/"
        },
        "id": "xtxZ-Wv_Ugps",
        "outputId": "fb7e2ae3-d639-4e86-929f-13f083a9e3b5"
      },
      "execution_count": null,
      "outputs": [
        {
          "output_type": "execute_result",
          "data": {
            "text/plain": [
              "{'hematocrito': 41.2,\n",
              " 'idhemoglobina': 14.1,\n",
              " 'linfocitos': 38,\n",
              " 'monocitos': 7,\n",
              " 'nomhemacias': 4.71,\n",
              " 'resultados': 'saudavel'}"
            ]
          },
          "metadata": {},
          "execution_count": 67
        }
      ]
    },
    {
      "cell_type": "markdown",
      "source": [
        "14. Corrija o dicionário acima com monocitos:12."
      ],
      "metadata": {
        "id": "qsxth4mPLIu4"
      }
    },
    {
      "cell_type": "code",
      "source": [
        "hemograma['monocitos'] = 12\n",
        "hemograma \n"
      ],
      "metadata": {
        "colab": {
          "base_uri": "https://localhost:8080/"
        },
        "id": "65_9jz5aVGJ1",
        "outputId": "49dd5481-80c3-4c39-add3-c599e66ccaa7"
      },
      "execution_count": null,
      "outputs": [
        {
          "output_type": "execute_result",
          "data": {
            "text/plain": [
              "{'hemacias': 4.71,\n",
              " 'hematocrito': 41.2,\n",
              " 'hemoglobina': 14.1,\n",
              " 'linfocitos': 38,\n",
              " 'monocitos': 12,\n",
              " 'resultados': 'saudavel'}"
            ]
          },
          "metadata": {},
          "execution_count": 72
        }
      ]
    }
  ]
}